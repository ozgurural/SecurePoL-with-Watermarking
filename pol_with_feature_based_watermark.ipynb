{
  "nbformat": 4,
  "nbformat_minor": 0,
  "metadata": {
    "colab": {
      "provenance": [],
      "authorship_tag": "ABX9TyOphD4wSeQ4Ybkd5aBtMD/m",
      "include_colab_link": true
    },
    "kernelspec": {
      "name": "python3",
      "display_name": "Python 3"
    },
    "language_info": {
      "name": "python"
    }
  },
  "cells": [
    {
      "cell_type": "markdown",
      "metadata": {
        "id": "view-in-github",
        "colab_type": "text"
      },
      "source": [
        "<a href=\"https://colab.research.google.com/github/ozgurural/SecurePoL-with-Watermarking/blob/main/pol_with_feature_based_watermark.ipynb\" target=\"_parent\"><img src=\"https://colab.research.google.com/assets/colab-badge.svg\" alt=\"Open In Colab\"/></a>"
      ]
    },
    {
      "cell_type": "code",
      "execution_count": 1,
      "metadata": {
        "colab": {
          "base_uri": "https://localhost:8080/"
        },
        "id": "PVXPuScmp0CF",
        "outputId": "d139f061-a8bf-40af-c205-87290c275c1d"
      },
      "outputs": [
        {
          "output_type": "stream",
          "name": "stdout",
          "text": [
            "Cloning into 'SecurePoL-with-Watermarking'...\n",
            "remote: Enumerating objects: 189, done.\u001b[K\n",
            "remote: Counting objects: 100% (189/189), done.\u001b[K\n",
            "remote: Compressing objects: 100% (145/145), done.\u001b[K\n",
            "remote: Total 189 (delta 105), reused 95 (delta 40), pack-reused 0 (from 0)\u001b[K\n",
            "Receiving objects: 100% (189/189), 9.05 MiB | 14.57 MiB/s, done.\n",
            "Resolving deltas: 100% (105/105), done.\n"
          ]
        }
      ],
      "source": [
        "!git clone https://github.com/ozgurural/SecurePoL-with-Watermarking.git"
      ]
    },
    {
      "cell_type": "code",
      "source": [
        "# prompt: cd\n",
        "\n",
        "%cd SecurePoL-with-Watermarking"
      ],
      "metadata": {
        "colab": {
          "base_uri": "https://localhost:8080/"
        },
        "id": "EReF6ivPqU3O",
        "outputId": "1c471817-da76-42df-ba9c-e1b654ef4b6d"
      },
      "execution_count": 2,
      "outputs": [
        {
          "output_type": "stream",
          "name": "stdout",
          "text": [
            "/content/SecurePoL-with-Watermarking\n"
          ]
        }
      ]
    },
    {
      "cell_type": "code",
      "source": [
        "!python PoL/train_with_watermark.py \\\n",
        "    --save-freq 100 \\\n",
        "    --dataset CIFAR10 \\\n",
        "    --model resnet20 \\\n",
        "    --epochs 2 \\\n",
        "    --lambda-wm 0.01 \\\n",
        "    --k 1000 \\\n",
        "    --watermark-key 'secret_key' \\\n",
        "    --watermark-method 'feature_based'"
      ],
      "metadata": {
        "colab": {
          "base_uri": "https://localhost:8080/"
        },
        "id": "GyBVTmkVr4qC",
        "outputId": "423fc2ed-2111-4d37-cc37-f1400ec70882"
      },
      "execution_count": 3,
      "outputs": [
        {
          "output_type": "stream",
          "name": "stdout",
          "text": [
            "2024-12-20 20:09:27,246 - INFO - Trying to allocate 0 GPUs\n",
            "2024-12-20 20:09:27,249 - INFO - Using device: cpu\n",
            "Downloading https://www.cs.toronto.edu/~kriz/cifar-10-python.tar.gz to ./data/cifar-10-python.tar.gz\n",
            "100% 170M/170M [00:04<00:00, 34.6MB/s]\n",
            "Extracting ./data/cifar-10-python.tar.gz to ./data\n",
            "2024-12-20 20:09:35,635 - INFO - Dataset loaded with 50000 samples.\n",
            "2024-12-20 20:09:35,720 - INFO - Generated training sequence with length 100000\n",
            "2024-12-20 20:09:35,854 - INFO - Data shape: (100000, 32, 32, 3), Data type: uint8\n",
            "2024-12-20 20:09:35,854 - INFO - First data sample hash: a3f4c00fa8a122dbe09d61bc1b6f0649e0f0dd30f22239c25f1dc0cb2d9cdbb6\n",
            "2024-12-20 20:09:40,326 - INFO - Computed hash during training: 40d8b2dd36df8ea21925e209d7305d262a7fdd7e670988f539080b2511019373\n",
            "2024-12-20 20:09:40,326 - INFO - Saved dataset hash to hash.txt\n",
            "2024-12-20 20:09:40,327 - INFO - Saved training sequence to indices.npy\n",
            "2024-12-20 20:09:40,328 - INFO - Saved watermarking information to watermark_info.json\n",
            "/usr/local/lib/python3.10/dist-packages/torch/utils/data/dataloader.py:617: UserWarning: This DataLoader will create 4 worker processes in total. Our suggested max number of worker in current system is 2, which is smaller than what this DataLoader is going to create. Please be aware that excessive worker creation might get DataLoader running slow or even freeze, lower the worker number to avoid potential slowness/freeze if necessary.\n",
            "  warnings.warn(\n",
            "2024-12-20 20:09:40,331 - INFO - Model architecture: resnet20\n",
            "2024-12-20 20:09:40,331 - INFO - Learning Rate: 0.1\n",
            "2024-12-20 20:09:40,331 - INFO - Batch Size: 128\n",
            "2024-12-20 20:09:40,331 - INFO - Epochs: 2\n",
            "2024-12-20 20:09:40,331 - INFO - Optimizer: SGD\n",
            "2024-12-20 20:09:40,331 - INFO - Scheduler: MultiStepLR with milestones [1, 1] and gamma 0.1\n",
            "2024-12-20 20:09:40,340 - INFO - Saved initial model checkpoint at step 0\n",
            "2024-12-20 20:09:40,340 - INFO - Starting epoch 1/2\n",
            "2024-12-20 20:09:41,425 - INFO - Feature-based watermark loss computed at step 0\n",
            "2024-12-20 20:11:27,648 - INFO - Saved checkpoint at step 100\n",
            "2024-12-20 20:13:13,697 - INFO - Saved checkpoint at step 200\n",
            "2024-12-20 20:14:59,940 - INFO - Saved checkpoint at step 300\n",
            "2024-12-20 20:16:46,355 - INFO - Saved checkpoint at step 400\n",
            "2024-12-20 20:18:32,862 - INFO - Saved checkpoint at step 500\n",
            "2024-12-20 20:20:19,866 - INFO - Saved checkpoint at step 600\n",
            "2024-12-20 20:22:06,697 - INFO - Saved checkpoint at step 700\n",
            "2024-12-20 20:23:33,513 - INFO - Scheduler stepped at epoch 1/2\n",
            "2024-12-20 20:23:33,513 - INFO - Starting epoch 2/2\n",
            "2024-12-20 20:23:53,066 - INFO - Saved checkpoint at step 800\n",
            "2024-12-20 20:25:39,889 - INFO - Saved checkpoint at step 900\n",
            "2024-12-20 20:27:26,705 - INFO - Saved checkpoint at step 1000\n",
            "2024-12-20 20:27:27,141 - INFO - Feature-based watermark loss computed at step 1000\n",
            "2024-12-20 20:29:13,336 - INFO - Saved checkpoint at step 1100\n",
            "2024-12-20 20:30:59,954 - INFO - Saved checkpoint at step 1200\n",
            "2024-12-20 20:32:46,898 - INFO - Saved checkpoint at step 1300\n",
            "2024-12-20 20:34:33,598 - INFO - Saved checkpoint at step 1400\n",
            "2024-12-20 20:36:19,535 - INFO - Saved checkpoint at step 1500\n",
            "2024-12-20 20:37:27,655 - INFO - Scheduler stepped at epoch 2/2\n",
            "2024-12-20 20:37:27,671 - INFO - Saved final model checkpoint at step 1564\n",
            "2024-12-20 20:37:27,688 - INFO - Starting feature-based watermark validation.\n",
            "2024-12-20 20:37:27,950 - INFO - Feature-based watermark validation successful: Watermark detected.\n",
            "2024-12-20 20:37:27,950 - INFO - Feature-based watermark verification successful: Watermark is present in the model.\n",
            "2024-12-20 20:37:27,958 - INFO - Model with feature_based watermark saved at model_with_feature_based_watermark.pth\n",
            "Files already downloaded and verified\n",
            "2024-12-20 20:37:59,423 - INFO - Validation Accuracy: 73.86%\n",
            "2024-12-20 20:37:59,424 - INFO - Total training time: 1712.18 seconds\n"
          ]
        }
      ]
    }
  ]
}